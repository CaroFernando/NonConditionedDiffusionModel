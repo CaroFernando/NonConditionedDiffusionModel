{
 "cells": [
  {
   "cell_type": "code",
   "execution_count": null,
   "metadata": {},
   "outputs": [],
   "source": [
    "from Diffusion import Diffusion\n",
    "from UNet import UNet\n",
    "from params import params\n",
    "import torch\n",
    "import torch.nn as nn\n",
    "import torch.nn.functional as F\n",
    "import pytorch_lightning as pl\n",
    "from ImageDataset import ImageDataset"
   ]
  },
  {
   "cell_type": "code",
   "execution_count": null,
   "metadata": {},
   "outputs": [],
   "source": [
    "class DiffusionModel(pl.LightningModule):\n",
    "    def __init__(self):\n",
    "        super().__init__()\n",
    "        self.model = UNet(device=self.device)\n",
    "        self.diffusion = Diffusion()\n",
    "\n",
    "    def forward(self, x, t):\n",
    "        return self.model(x, t)\n",
    "\n",
    "    def sample_images(self, num_samples):\n",
    "        return self.diffusion.sample(self.model, num_samples)\n",
    "\n",
    "    def training_step(self, batch, batch_idx):\n",
    "        x = batch\n",
    "        t = self.diffusion.sample_timesteps(x.shape[0]).to(self.device)\n",
    "        noisy_x, noise = self.diffusion.apply_noise(x, t)\n",
    "        noisy_x = noisy_x.to(self.device)\n",
    "        noise = noise.to(self.device)\n",
    "        \n",
    "        noise_hat = self.model(noisy_x, t)\n",
    "        loss = F.mse_loss(noise_hat, noise)\n",
    "        self.log('train_loss', loss)\n",
    "        return loss\n",
    "\n",
    "    def configure_optimizers(self):\n",
    "        return torch.optim.Adam(self.parameters(), lr=1e-3)\n"
   ]
  },
  {
   "cell_type": "code",
   "execution_count": null,
   "metadata": {},
   "outputs": [],
   "source": [
    "ds = ImageDataset('../portraits', max_image_count = 1000, img_size=params.img_size)"
   ]
  },
  {
   "cell_type": "code",
   "execution_count": null,
   "metadata": {},
   "outputs": [],
   "source": [
    "loader = torch.utils.data.DataLoader(ds, batch_size=4, shuffle=True, num_workers=0)"
   ]
  },
  {
   "cell_type": "code",
   "execution_count": null,
   "metadata": {},
   "outputs": [],
   "source": [
    "import matplotlib.pyplot as plt\n",
    "from pytorch_lightning.callbacks import Callback\n",
    "\n",
    "class DiffusionPlotCallback(Callback):\n",
    "    def __init__(self, epochs_to_plot, inverse_transform):\n",
    "        super().__init__()\n",
    "        self.cont = 0\n",
    "        self.inverse_transform = inverse_transform\n",
    "        self.epochs_to_plot = epochs_to_plot\n",
    "        self.num_images = 10\n",
    "\n",
    "    def on_train_batch_end(self, trainer, pl_module, outputs, batch, batch_idx):\n",
    "        if batch_idx % 1 == 0:\n",
    "            imgs = pl_module.sample_images(self.num_images)[0]\n",
    "            imgs = [self.inverse_transform(img) for img in imgs]\n",
    "\n",
    "            fig, axs = plt.subplots(1, self.num_images, figsize=(int(self.num_images*1.7), 3))\n",
    "            # plot images on intervals of len(imgs) / num_images\n",
    "            for i, ax in enumerate(axs):\n",
    "                ax.imshow(imgs[int(i * len(imgs) / self.num_images)])\n",
    "                ax.axis(\"off\")\n",
    "\n",
    "            plt.savefig(f\"plots/{self.cont}_{batch_idx}.png\")\n",
    "\n",
    "            #clear all plots\n",
    "            plt.clf()\n",
    "            plt.close()"
   ]
  },
  {
   "cell_type": "code",
   "execution_count": null,
   "metadata": {},
   "outputs": [],
   "source": [
    "trainer = pl.Trainer(gpus=1, max_epochs=1, callbacks=[DiffusionPlotCallback(epochs_to_plot=1, inverse_transform=ds.inverse_transform)])\n",
    "model = DiffusionModel()\n",
    "trainer.fit(model, loader)"
   ]
  },
  {
   "cell_type": "code",
   "execution_count": null,
   "metadata": {},
   "outputs": [],
   "source": []
  }
 ],
 "metadata": {
  "kernelspec": {
   "display_name": "Python 3",
   "language": "python",
   "name": "python3"
  },
  "language_info": {
   "codemirror_mode": {
    "name": "ipython",
    "version": 3
   },
   "file_extension": ".py",
   "mimetype": "text/x-python",
   "name": "python",
   "nbconvert_exporter": "python",
   "pygments_lexer": "ipython3",
   "version": "3.9.0"
  },
  "orig_nbformat": 4,
  "vscode": {
   "interpreter": {
    "hash": "fbe58ca63fe33f9eeae9e71d10368d2b4a57f2b1b395836210cc60d362c66949"
   }
  }
 },
 "nbformat": 4,
 "nbformat_minor": 2
}
